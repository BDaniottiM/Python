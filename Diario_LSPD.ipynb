{
  "cells": [
    {
      "cell_type": "markdown",
      "metadata": {
        "colab_type": "text",
        "id": "view-in-github"
      },
      "source": [
        "<a href=\"https://colab.research.google.com/github/BDaniottiM/Python/blob/main/Diario_LSPD.ipynb\" target=\"_parent\"><img src=\"https://colab.research.google.com/assets/colab-badge.svg\" alt=\"Open In Colab\"/></a>"
      ]
    },
    {
      "cell_type": "code",
      "execution_count": 11,
      "metadata": {
        "id": "SxdoLXOaaZUa"
      },
      "outputs": [],
      "source": [
        "def diario(escolha):\n",
        "  escolha=0 \n",
        "  escolha=int(input('Escolha uma das opções escrevendo um número '))\n",
        "  if escolha==1:\n",
        "    quantidade_cadete=int(input('Quantos cadetes serão admitidos? '))\n",
        "    cnomes=[]\n",
        "    cdistintivos=[]\n",
        "    for i in range(quantidade_cadete):\n",
        "      nome_cadete=str(input(\"Qual o nome do cadete? \"))\n",
        "      cnomes.append(nome_cadete)\n",
        "      distintivo_cadete=str(input(\"Qual o distintivo? \"))\n",
        "      cdistintivos.append(distintivo_cadete)\n",
        "    x=1\n",
        "    i=0\n",
        "    print('\\n\\n```diff\\n+ Admissão de cadetes\\n')\n",
        "    while x<=quantidade_cadete:\n",
        "      print('Oficial: #',cdistintivos[i],' ',cnomes[i],sep='')\n",
        "      i=i+1\n",
        "      x=x+1\n",
        "    print('```')\n",
        "\n",
        "  elif escolha==2:\n",
        "    quantidade_deslig=int(input('Quantos oficiais serão desligados? '))\n",
        "    dnomes=[]\n",
        "    ddistintivos=[]\n",
        "    for i in range(quantidade_deslig):\n",
        "      nome_desligamento=str(input('Qual o nome do oficial? '))\n",
        "      dnomes.append(nome_desligamento)\n",
        "      dist_deslig=str(input('Qual o distintivo do oficial? '))\n",
        "      ddistintivos.append(dist_deslig)\n",
        "    motivo_desligamento=str(input('Qual o motivo do desligamento? '))\n",
        "    x=1\n",
        "    i=0\n",
        "    print('\\n\\n```diff\\n- Desligamento\\n')\n",
        "    while x<=quantidade_deslig:\n",
        "      print('Oficial: #',ddistintivos[i],' ',dnomes[i],sep='')\n",
        "      i=i+1\n",
        "      x=x+1        \n",
        "    print('\\nMotivo: ',motivo_desligamento,'\\n```',sep='')\n",
        "\n",
        "  elif escolha==3:\n",
        "    quantidade_readmissão=int(input('Quantos oficiais serão readmitidos? '))\n",
        "    rnomes=[]\n",
        "    rdistintivos=[]\n",
        "    for i in range(quantidade_readmissão):\n",
        "      nome_readmissão=str(input(\"Qual o nome do Oficial? \"))\n",
        "      rnomes.append(nome_readmissão)\n",
        "      distintivo_readmissão=str(input(\"Qual o distintivo? \"))\n",
        "      rdistintivos.append(distintivo_readmissão)\n",
        "    x=1\n",
        "    i=0\n",
        "    print('\\n\\n```diff\\n+ Readmissão de oficial\\n')\n",
        "    while x<=quantidade_readmissão:\n",
        "      print('Oficial: #',rdistintivos[i],' ',rnomes[i],sep='')\n",
        "      i=i+1\n",
        "      x=x+1\n",
        "    print('```')\n",
        "\n",
        "  elif escolha==4:\n",
        "    nome_transferêcia=str(input('Qual o nome do oficial? '))\n",
        "    distintivo_transferência=str(input(\"Qual o distintivo? \" ))\n",
        "    antigo_dept=str(input(\"Qual a sigla do antigo Departamento?\" ))\n",
        "    novo_dept=str(input(\"Qual a sigla do novo Departamento? \"))\n",
        "    print('\\n\\n```diff\\n+ Transferência\\n\\nOficial: #',distintivo_transferência,' ',nome_transferêcia,'\\n\\nAntigo Departamento ',antigo_dept,'\\n\\nNovo Departamento: ',novo_dept,'\\n```',sep='')\n",
        "\n",
        "  elif escolha==5:\n",
        "    nome_curso=str(input('Qual o nome do curso? '))\n",
        "    nome_cfoficial=str(input('Qual o nome do oficial? '))\n",
        "    dist_cf=str(input('Qual o distintivo do oficial? '))\n",
        "    situação=str(input('Ele foi aprovado ou reprovado? '))\n",
        "    print('\\n\\n```diff\\n+ Curso de formação de ',nome_curso,'\\n\\nOficial: #',dist_cf,' ',nome_cfoficial,'\\n\\nSituação: ',situação,'\\n```',sep='')\n",
        "  \n",
        "  elif escolha==6:\n",
        "    nome_afast=str(input('Qual o nome do oficial? '))\n",
        "    dist_afast=str(input('Qual o distintivo do oficial? '))\n",
        "    motivo_afast=str(input('Qual o motivo do afastamento? '))\n",
        "    print('\\n\\n```diff\\n- Afastamento\\n\\nOficial: #',dist_afast,' ',nome_afast,'\\n\\nMotivo: ',motivo_afast,'\\n```',sep='')"
      ]
    },
    {
      "cell_type": "code",
      "execution_count": null,
      "metadata": {
        "id": "65IiUvhb71uR"
      },
      "outputs": [],
      "source": [
        "print('[ 1 ] Admissão de cadete\\n[ 2 ] Desligamento\\n[ 3 ] Readmissão de oficial\\n[ 4 ] Transferência\\n[ 5 ] Curso de forção de...\\n\\n')\n",
        "escoha=0\n",
        "diario(escolha)"
      ]
    }
  ],
  "metadata": {
    "colab": {
      "include_colab_link": true,
      "provenance": []
    },
    "kernelspec": {
      "display_name": "Python 3",
      "name": "python3"
    },
    "language_info": {
      "name": "python"
    }
  },
  "nbformat": 4,
  "nbformat_minor": 0
}
