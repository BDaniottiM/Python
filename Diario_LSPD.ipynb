{
  "cells": [
    {
      "cell_type": "code",
      "execution_count": 21,
      "metadata": {},
      "outputs": [],
      "source": [
        "def cadete():\n",
        "    quantidade_cadete=int(input('Quantos cadetes serão admitidos? '))\n",
        "    nome_cadete=0\n",
        "    distintivo_cadete=0\n",
        "    cnomes=[]\n",
        "    cdistintivos=[]\n",
        "    for i in range(quantidade_cadete):\n",
        "      nome_cadete=str(input(\"Qual o nome do cadete? \"))\n",
        "      cnomes.append(nome_cadete)\n",
        "      distintivo_cadete=str(input(\"Qual o distintivo? \"))\n",
        "      cdistintivos.append(distintivo_cadete)\n",
        "    x=1\n",
        "    i=0\n",
        "    print('\\n\\n```diff\\n+ Admissão de cadetes\\n')\n",
        "    while x<=quantidade_cadete:\n",
        "      print('Oficial: #',cdistintivos[i],' ',cnomes[i],sep='')\n",
        "      i=i+1\n",
        "      x=x+1\n",
        "    print('```')\n",
        "def desligamento():\n",
        "    quantidade_deslig=int(input('Quantos oficiais serão desligados? '))\n",
        "    dnomes=[]\n",
        "    ddistintivos=[]\n",
        "    for i in range(quantidade_deslig):\n",
        "      nome_desligamento=str(input('Qual o nome do oficial? '))\n",
        "      dnomes.append(nome_desligamento)\n",
        "      dist_deslig=str(input('Qual o distintivo do oficial? '))\n",
        "      ddistintivos.append(dist_deslig)\n",
        "    motivo_desligamento=str(input('Qual o motivo do desligamento? '))\n",
        "    x=1\n",
        "    i=0\n",
        "    print('\\n\\n```diff\\n- Desligamento\\n')\n",
        "    while x<=quantidade_deslig:\n",
        "      print('Oficial: #',ddistintivos[i],' ',dnomes[i],sep='')\n",
        "      i=i+1\n",
        "      x=x+1        \n",
        "    print('\\nMotivo: ',motivo_desligamento,'\\n```',sep='')\n",
        "def readmissão():\n",
        "    quantidade_readmissão=int(input('Quantos oficiais serão readmitidos? '))\n",
        "    rnomes=[]\n",
        "    rdistintivos=[]\n",
        "    for i in range(quantidade_readmissão):\n",
        "      nome_readmissão=str(input(\"Qual o nome do Oficial? \"))\n",
        "      rnomes.append(nome_readmissão)\n",
        "      distintivo_readmissão=str(input(\"Qual o distintivo? \"))\n",
        "      rdistintivos.append(distintivo_readmissão)\n",
        "    x=1\n",
        "    i=0\n",
        "    print('\\n\\n```diff\\n+ Readmissão de oficial\\n')\n",
        "    while x<=quantidade_readmissão:\n",
        "      print('Oficial: #',rdistintivos[i],' ',rnomes[i],sep='')\n",
        "      i=i+1\n",
        "      x=x+1\n",
        "    print('```')\n",
        "\n",
        "def transferêcia():\n",
        "    nome_transferêcia=str(input('Qual o nome do oficial? '))\n",
        "    distintivo_transferência=str(input(\"Qual o distintivo? \" ))\n",
        "    antigo_dept=str(input(\"Qual a sigla do antigo Departamento?\" ))\n",
        "    novo_dept=str(input(\"Qual a sigla do novo Departamento? \"))\n",
        "    print('\\n\\n```diff\\n+ Transferência\\n\\nOficial: #',distintivo_transferência,' ',nome_transferêcia,'\\n\\nAntigo Departamento ',antigo_dept,'\\n\\nNovo Departamento: ',novo_dept,'\\n```',sep='')\n",
        "\n",
        "def cf():\n",
        "    nome_curso=str(input('Qual o nome do curso? '))\n",
        "    nome_cfoficial=str(input('Qual o nome do oficial? '))\n",
        "    dist_cf=str(input('Qual o distintivo do oficial? '))\n",
        "    situação=str(input('Ele foi aprovado ou reprovado? '))\n",
        "    print('\\n\\n```diff\\n+ Curso de formação de ',nome_curso,'\\n\\nOficial: #',dist_cf,' ',nome_cfoficial,'\\n\\nSituação: ',situação,'\\n```',sep='')\n",
        "\n",
        "def afastamento():\n",
        "    nome_afast=str(input('Qual o nome do oficial? '))\n",
        "    dist_afast=str(input('Qual o distintivo do oficial? '))\n",
        "    motivo_afast=str(input('Qual o motivo do afastamento? '))\n",
        "    print('\\n\\n```diff\\n- Afastamento\\n\\nOficial: #',dist_afast,' ',nome_afast,'\\n\\nMotivo: ',motivo_afast,'\\n```',sep='')"
      ]
    },
    {
      "cell_type": "code",
      "execution_count": 18,
      "metadata": {
        "id": "SxdoLXOaaZUa"
      },
      "outputs": [],
      "source": [
        "def diario(escolha):\n",
        "  escolha=0 \n",
        "  escolha=int(input('Escolha uma das opções escrevendo um número '))\n",
        "  if escolha==1:\n",
        "    cadete()\n",
        "    \n",
        "  elif escolha==2:\n",
        "    desligamento()\n",
        "\n",
        "  elif escolha==3:\n",
        "    readmissão()\n",
        "\n",
        "  elif escolha==4:\n",
        "    transferêcia()\n",
        "\n",
        "  elif escolha==5:\n",
        "    cf()\n",
        "\n",
        "  elif escolha==6:\n",
        "    afastamento()"
      ]
    },
    {
      "cell_type": "code",
      "execution_count": 22,
      "metadata": {
        "id": "65IiUvhb71uR"
      },
      "outputs": [
        {
          "name": "stdout",
          "output_type": "stream",
          "text": [
            "[ 1 ] Admissão de cadete\n",
            "[ 2 ] Desligamento\n",
            "[ 3 ] Readmissão de oficial\n",
            "[ 4 ] Transferência\n",
            "[ 5 ] Curso de forção de...\n",
            "[ 6 ] Afastamento\n",
            "\n",
            "\n",
            "\n",
            "```diff\n",
            "+ Admissão de cadetes\n",
            "\n",
            "Oficial: #a 2\n",
            "Oficial: #a 2\n",
            "```\n"
          ]
        }
      ],
      "source": [
        "print('[ 1 ] Admissão de cadete\\n[ 2 ] Desligamento\\n[ 3 ] Readmissão de oficial\\n[ 4 ] Transferência\\n[ 5 ] Curso de forção de...\\n[ 6 ] Afastamento\\n')\n",
        "escolha=0\n",
        "diario(escolha)"
      ]
    }
  ],
  "metadata": {
    "colab": {
      "include_colab_link": true,
      "provenance": []
    },
    "kernelspec": {
      "display_name": "Python 3",
      "language": "python",
      "name": "python3"
    },
    "language_info": {
      "codemirror_mode": {
        "name": "ipython",
        "version": 3
      },
      "file_extension": ".py",
      "mimetype": "text/x-python",
      "name": "python",
      "nbconvert_exporter": "python",
      "pygments_lexer": "ipython3",
      "version": "3.10.9"
    },
    "vscode": {
      "interpreter": {
        "hash": "eb50d9a376658af569da5824a5416ffd44fb085b69b6badc2ac2c8869df562a9"
      }
    }
  },
  "nbformat": 4,
  "nbformat_minor": 0
}
